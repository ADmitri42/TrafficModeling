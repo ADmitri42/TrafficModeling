{
 "cells": [
  {
   "cell_type": "code",
   "execution_count": 1,
   "metadata": {},
   "outputs": [],
   "source": [
    "from collections import defaultdict\n",
    "import numpy as np\n",
    "import matplotlib.pyplot as plt\n",
    "import matplotlib.animation as animation\n",
    "from IPython.display import HTML\n",
    "from tqdm import tqdm\n",
    "%matplotlib inline"
   ]
  },
  {
   "cell_type": "code",
   "execution_count": 2,
   "metadata": {},
   "outputs": [],
   "source": [
    "from road_network.road_and_cars import VoidGenerator, CarManager, RoadManager, speeds\n",
    "from road_network.prebuild_set import CrossroadAndLines4x4"
   ]
  },
  {
   "cell_type": "markdown",
   "metadata": {},
   "source": [
    "x - вниз  \n",
    "y - вправо\n",
    "\n",
    "      1  \n",
    "    2 0 4  \n",
    "      3"
   ]
  },
  {
   "cell_type": "code",
   "execution_count": 3,
   "metadata": {},
   "outputs": [],
   "source": [
    "ROTARY_2 = True\n",
    "ROTATE_IN_JUNK = False\n",
    "RANDOM_WALK = False"
   ]
  },
  {
   "cell_type": "code",
   "execution_count": 4,
   "metadata": {},
   "outputs": [],
   "source": [
    "cross0 = CrossroadAndLines4x4(10, 20, 10, rotary_2=ROTARY_2, name=\"BC0\")\n",
    "cross1 = CrossroadAndLines4x4(10, 20, 10, rotary_2=ROTARY_2, name=\"BC1\")\n",
    "cross2 = CrossroadAndLines4x4(10, 20, 10, rotary_2=ROTARY_2, name=\"BC2\")\n",
    "cross3 = CrossroadAndLines4x4(10, 20, 10, rotary_2=ROTARY_2, name=\"BC3\")"
   ]
  },
  {
   "cell_type": "code",
   "execution_count": 5,
   "metadata": {},
   "outputs": [],
   "source": [
    "void_ver = VoidGenerator(.8, random_walk=RANDOM_WALK, p_rot=[[.15, .15, .35, .35],\n",
    "                                                      [.35, .35, .15, .15],\n",
    "                                                      [.35, .35, .15, .15],\n",
    "                                                      [.15, .15, .35, .35]], first_n = 4, rotate_in_case=ROTATE_IN_JUNK, name=\"VoidVer\")\n",
    "void_hor = VoidGenerator(.8, random_walk=RANDOM_WALK, p_rot=[[.35, .35, .15, .15],\n",
    "                                                      [.15, .15, .35, .35],\n",
    "                                                      [.15, .15, .35, .35],\n",
    "                                                      [.35, .35, .15, .15]], first_n = 4, rotate_in_case=ROTATE_IN_JUNK, name=\"VoidHor\")"
   ]
  },
  {
   "cell_type": "markdown",
   "metadata": {},
   "source": [
    "       2 3  \n",
    "    0       0\n",
    "    1       1\n",
    "       2 3"
   ]
  },
  {
   "cell_type": "markdown",
   "metadata": {},
   "source": [
    "## Connecting roads"
   ]
  },
  {
   "cell_type": "markdown",
   "metadata": {},
   "source": [
    "### Cross0"
   ]
  },
  {
   "cell_type": "code",
   "execution_count": 6,
   "metadata": {},
   "outputs": [],
   "source": [
    "RoadManager.connect_roads_str(\"BC0/Cross0/Cross0/Line3\", \"VoidVer\")\n",
    "RoadManager.connect_roads_str(\"BC0/Cross0/Cross1/Line3\", \"VoidVer\")\n",
    "RoadManager.connect_roads_str(\"BC0/Cross1/Cross0/Line3\", \"VoidVer\")\n",
    "RoadManager.connect_roads_str(\"BC0/Cross1/Cross1/Line3\", \"VoidVer\")\n",
    "\n",
    "RoadManager.connect_roads_str(\"BC0/Cross0/Cross0/Line0\", \"VoidHor\")\n",
    "RoadManager.connect_roads_str(\"BC0/Cross0/Cross2/Line0\", \"VoidHor\")\n",
    "RoadManager.connect_roads_str(\"BC0/Cross2/Cross0/Line0\", \"VoidHor\") \n",
    "RoadManager.connect_roads_str(\"BC0/Cross2/Cross2/Line0\", \"VoidHor\")\n",
    "\n",
    "\n",
    "RoadManager.connect_roads_str(\"VoidVer\", \"BC0/Cross0/Cross0/LineWLight2\")\n",
    "RoadManager.connect_roads_str(\"VoidVer\", \"BC0/Cross0/Cross1/LineWLight2\")\n",
    "RoadManager.connect_roads_str(\"VoidVer\", \"BC0/Cross1/Cross0/LineWLight2\")\n",
    "RoadManager.connect_roads_str(\"VoidVer\", \"BC0/Cross1/Cross1/LineWLight2\")\n",
    "\n",
    "RoadManager.connect_roads_str(\"VoidHor\", \"BC0/Cross0/Cross0/LineWLight1\")\n",
    "RoadManager.connect_roads_str(\"VoidHor\", \"BC0/Cross0/Cross2/LineWLight1\")\n",
    "RoadManager.connect_roads_str(\"VoidHor\", \"BC0/Cross2/Cross0/LineWLight1\")\n",
    "RoadManager.connect_roads_str(\"VoidHor\", \"BC0/Cross2/Cross2/LineWLight1\")"
   ]
  },
  {
   "cell_type": "code",
   "execution_count": 7,
   "metadata": {},
   "outputs": [],
   "source": [
    "RoadManager.connect_roads_str(\"BC0/Cross1/Cross1/Line1\", \"BC1/Cross0/Cross0/LineWLight1\")\n",
    "RoadManager.connect_roads_str(\"BC0/Cross1/Cross3/Line1\", \"BC1/Cross0/Cross2/LineWLight1\")\n",
    "RoadManager.connect_roads_str(\"BC0/Cross3/Cross1/Line1\", \"BC1/Cross2/Cross0/LineWLight1\")\n",
    "RoadManager.connect_roads_str(\"BC0/Cross3/Cross3/Line1\", \"BC1/Cross2/Cross2/LineWLight1\")\n",
    "\n",
    "RoadManager.connect_roads_str(\"BC0/Cross2/Cross2/Line2\", \"BC2/Cross0/Cross0/LineWLight2\")\n",
    "RoadManager.connect_roads_str(\"BC0/Cross2/Cross3/Line2\", \"BC2/Cross0/Cross1/LineWLight2\")\n",
    "RoadManager.connect_roads_str(\"BC0/Cross3/Cross2/Line2\", \"BC2/Cross1/Cross0/LineWLight2\")\n",
    "RoadManager.connect_roads_str(\"BC0/Cross3/Cross3/Line2\", \"BC2/Cross1/Cross1/LineWLight2\")\n",
    "\n",
    "\n",
    "# RoadManager.connect_roads_str(\"BC1/Cross0/Cross0/Line0\", \"BC0/Cross1/Cross1/LineWLight0\")\n",
    "# RoadManager.connect_roads_str(\"BC1/Cross0/Cross2/Line0\", \"BC0/Cross1/Cross3/LineWLight0\")\n",
    "# RoadManager.connect_roads_str(\"BC1/Cross2/Cross0/Line0\", \"BC0/Cross3/Cross1/LineWLight0\")\n",
    "# RoadManager.connect_roads_str(\"BC1/Cross2/Cross2/Line0\", \"BC0/Cross3/Cross3/LineWLight0\")\n",
    "\n",
    "# RoadManager.connect_roads_str(\"BC2/Cross0/Cross0/Line3\", \"BC0/Cross2/Cross2/LineWLight3\")\n",
    "# RoadManager.connect_roads_str(\"BC2/Cross0/Cross1/Line3\", \"BC0/Cross2/Cross3/LineWLight3\")\n",
    "# RoadManager.connect_roads_str(\"BC2/Cross1/Cross0/Line3\", \"BC0/Cross3/Cross2/LineWLight3\")\n",
    "# RoadManager.connect_roads_str(\"BC2/Cross1/Cross1/Line3\", \"BC0/Cross3/Cross3/LineWLight3\")"
   ]
  },
  {
   "cell_type": "markdown",
   "metadata": {},
   "source": [
    "### Cross1"
   ]
  },
  {
   "cell_type": "code",
   "execution_count": 8,
   "metadata": {},
   "outputs": [],
   "source": [
    "RoadManager.connect_roads_str(\"BC1/Cross0/Cross0/Line3\", \"VoidVer\")\n",
    "RoadManager.connect_roads_str(\"BC1/Cross0/Cross1/Line3\", \"VoidVer\")\n",
    "RoadManager.connect_roads_str(\"BC1/Cross1/Cross0/Line3\", \"VoidVer\")\n",
    "RoadManager.connect_roads_str(\"BC1/Cross1/Cross1/Line3\", \"VoidVer\")\n",
    "\n",
    "RoadManager.connect_roads_str(\"BC1/Cross1/Cross1/Line1\", \"VoidHor\")\n",
    "RoadManager.connect_roads_str(\"BC1/Cross1/Cross3/Line1\", \"VoidHor\")\n",
    "RoadManager.connect_roads_str(\"BC1/Cross3/Cross1/Line1\", \"VoidHor\")\n",
    "RoadManager.connect_roads_str(\"BC1/Cross3/Cross3/Line1\", \"VoidHor\")\n",
    "\n",
    "\n",
    "RoadManager.connect_roads_str(\"VoidVer\", \"BC1/Cross0/Cross0/LineWLight2\")\n",
    "RoadManager.connect_roads_str(\"VoidVer\", \"BC1/Cross0/Cross1/LineWLight2\")\n",
    "RoadManager.connect_roads_str(\"VoidVer\", \"BC1/Cross1/Cross0/LineWLight2\")\n",
    "RoadManager.connect_roads_str(\"VoidVer\", \"BC1/Cross1/Cross1/LineWLight2\")\n",
    "\n",
    "RoadManager.connect_roads_str(\"VoidHor\", \"BC1/Cross1/Cross1/LineWLight0\")\n",
    "RoadManager.connect_roads_str(\"VoidHor\", \"BC1/Cross1/Cross3/LineWLight0\")\n",
    "RoadManager.connect_roads_str(\"VoidHor\", \"BC1/Cross3/Cross1/LineWLight0\")\n",
    "RoadManager.connect_roads_str(\"VoidHor\", \"BC1/Cross3/Cross3/LineWLight0\")"
   ]
  },
  {
   "cell_type": "code",
   "execution_count": 9,
   "metadata": {},
   "outputs": [],
   "source": [
    "RoadManager.connect_roads_str(\"BC1/Cross0/Cross0/Line0\", \"BC0/Cross1/Cross1/LineWLight0\")\n",
    "RoadManager.connect_roads_str(\"BC1/Cross0/Cross2/Line0\", \"BC0/Cross1/Cross3/LineWLight0\")\n",
    "RoadManager.connect_roads_str(\"BC1/Cross2/Cross0/Line0\", \"BC0/Cross3/Cross1/LineWLight0\")\n",
    "RoadManager.connect_roads_str(\"BC1/Cross2/Cross2/Line0\", \"BC0/Cross3/Cross3/LineWLight0\")\n",
    "\n",
    "RoadManager.connect_roads_str(\"BC1/Cross2/Cross2/Line2\", \"BC3/Cross0/Cross0/LineWLight2\")\n",
    "RoadManager.connect_roads_str(\"BC1/Cross2/Cross3/Line2\", \"BC3/Cross0/Cross1/LineWLight2\")\n",
    "RoadManager.connect_roads_str(\"BC1/Cross3/Cross2/Line2\", \"BC3/Cross1/Cross0/LineWLight2\")\n",
    "RoadManager.connect_roads_str(\"BC1/Cross3/Cross3/Line2\", \"BC3/Cross1/Cross1/LineWLight2\")\n",
    "\n",
    "\n",
    "# RoadManager.connect_roads_str(\"BC0/Cross0/Cross0/Line0\", \"BC1/Cross1/Cross1/LineWLight0\")\n",
    "# RoadManager.connect_roads_str(\"BC0/Cross0/Cross2/Line0\", \"BC1/Cross1/Cross3/LineWLight0\")\n",
    "# RoadManager.connect_roads_str(\"BC0/Cross2/Cross0/Line0\", \"BC1/Cross3/Cross1/LineWLight0\")\n",
    "# RoadManager.connect_roads_str(\"BC0/Cross2/Cross2/Line0\", \"BC1/Cross3/Cross3/LineWLight0\")\n",
    "\n",
    "# RoadManager.connect_roads_str(\"BC3/Cross0/Cross0/Line3\", \"BC1/Cross2/Cross2/LineWLight3\")\n",
    "# RoadManager.connect_roads_str(\"BC3/Cross0/Cross1/Line3\", \"BC1/Cross2/Cross3/LineWLight3\")\n",
    "# RoadManager.connect_roads_str(\"BC3/Cross1/Cross0/Line3\", \"BC1/Cross3/Cross2/LineWLight3\")\n",
    "# RoadManager.connect_roads_str(\"BC3/Cross1/Cross1/Line3\", \"BC1/Cross3/Cross3/LineWLight3\")"
   ]
  },
  {
   "cell_type": "markdown",
   "metadata": {},
   "source": [
    "### Cross2"
   ]
  },
  {
   "cell_type": "code",
   "execution_count": 10,
   "metadata": {},
   "outputs": [],
   "source": [
    "RoadManager.connect_roads_str(\"BC2/Cross0/Cross0/Line0\", \"VoidHor\")\n",
    "RoadManager.connect_roads_str(\"BC2/Cross0/Cross2/Line0\", \"VoidHor\")\n",
    "RoadManager.connect_roads_str(\"BC2/Cross2/Cross0/Line0\", \"VoidHor\")\n",
    "RoadManager.connect_roads_str(\"BC2/Cross2/Cross2/Line0\", \"VoidHor\")\n",
    "\n",
    "RoadManager.connect_roads_str(\"BC2/Cross2/Cross2/Line2\", \"VoidVer\")\n",
    "RoadManager.connect_roads_str(\"BC2/Cross2/Cross3/Line2\", \"VoidVer\")\n",
    "RoadManager.connect_roads_str(\"BC2/Cross3/Cross2/Line2\", \"VoidVer\")\n",
    "RoadManager.connect_roads_str(\"BC2/Cross3/Cross3/Line2\", \"VoidVer\")\n",
    "\n",
    "\n",
    "RoadManager.connect_roads_str(\"VoidHor\", \"BC2/Cross0/Cross0/LineWLight1\")\n",
    "RoadManager.connect_roads_str(\"VoidHor\", \"BC2/Cross0/Cross2/LineWLight1\")\n",
    "RoadManager.connect_roads_str(\"VoidHor\", \"BC2/Cross2/Cross0/LineWLight1\")\n",
    "RoadManager.connect_roads_str(\"VoidHor\", \"BC2/Cross2/Cross2/LineWLight1\")\n",
    "\n",
    "RoadManager.connect_roads_str(\"VoidVer\", \"BC2/Cross2/Cross2/LineWLight3\")\n",
    "RoadManager.connect_roads_str(\"VoidVer\", \"BC2/Cross2/Cross3/LineWLight3\")\n",
    "RoadManager.connect_roads_str(\"VoidVer\", \"BC2/Cross3/Cross2/LineWLight3\")\n",
    "RoadManager.connect_roads_str(\"VoidVer\", \"BC2/Cross3/Cross3/LineWLight3\")"
   ]
  },
  {
   "cell_type": "code",
   "execution_count": 11,
   "metadata": {},
   "outputs": [],
   "source": [
    "RoadManager.connect_roads_str(\"BC2/Cross0/Cross0/Line3\", \"BC0/Cross2/Cross2/LineWLight3\")\n",
    "RoadManager.connect_roads_str(\"BC2/Cross0/Cross1/Line3\", \"BC0/Cross2/Cross3/LineWLight3\")\n",
    "RoadManager.connect_roads_str(\"BC2/Cross1/Cross0/Line3\", \"BC0/Cross3/Cross2/LineWLight3\")\n",
    "RoadManager.connect_roads_str(\"BC2/Cross1/Cross1/Line3\", \"BC0/Cross3/Cross3/LineWLight3\")\n",
    "\n",
    "RoadManager.connect_roads_str(\"BC2/Cross1/Cross1/Line1\", \"BC3/Cross0/Cross0/LineWLight1\")\n",
    "RoadManager.connect_roads_str(\"BC2/Cross1/Cross3/Line1\", \"BC3/Cross0/Cross2/LineWLight1\")\n",
    "RoadManager.connect_roads_str(\"BC2/Cross3/Cross1/Line1\", \"BC3/Cross2/Cross0/LineWLight1\")\n",
    "RoadManager.connect_roads_str(\"BC2/Cross3/Cross3/Line1\", \"BC3/Cross2/Cross2/LineWLight1\")\n",
    "\n",
    "\n",
    "# RoadManager.connect_roads_str(\"BC0/Cross0/Cross0/Line2\", \"BC2/Cross0/Cross0/LineWLight2\")\n",
    "# RoadManager.connect_roads_str(\"BC0/Cross0/Cross2/Line2\", \"BC2/Cross0/Cross1/LineWLight2\")\n",
    "# RoadManager.connect_roads_str(\"BC0/Cross2/Cross0/Line2\", \"BC2/Cross1/Cross0/LineWLight2\")\n",
    "# RoadManager.connect_roads_str(\"BC0/Cross2/Cross2/Line2\", \"BC2/Cross1/Cross1/LineWLight2\")\n",
    "\n",
    "# RoadManager.connect_roads_str(\"BC3/Cross0/Cross0/Line0\", \"BC2/Cross1/Cross1/LineWLight0\")\n",
    "# RoadManager.connect_roads_str(\"BC3/Cross0/Cross1/Line0\", \"BC2/Cross1/Cross3/LineWLight0\")\n",
    "# RoadManager.connect_roads_str(\"BC3/Cross1/Cross0/Line0\", \"BC2/Cross3/Cross1/LineWLight0\")\n",
    "# RoadManager.connect_roads_str(\"BC3/Cross1/Cross1/Line0\", \"BC2/Cross3/Cross3/LineWLight0\")"
   ]
  },
  {
   "cell_type": "markdown",
   "metadata": {},
   "source": [
    "### Cross3"
   ]
  },
  {
   "cell_type": "code",
   "execution_count": 12,
   "metadata": {},
   "outputs": [],
   "source": [
    "RoadManager.connect_roads_str(\"BC3/Cross1/Cross1/Line1\", \"VoidHor\")\n",
    "RoadManager.connect_roads_str(\"BC3/Cross1/Cross3/Line1\", \"VoidHor\")\n",
    "RoadManager.connect_roads_str(\"BC3/Cross3/Cross1/Line1\", \"VoidHor\")\n",
    "RoadManager.connect_roads_str(\"BC3/Cross3/Cross3/Line1\", \"VoidHor\")\n",
    "\n",
    "RoadManager.connect_roads_str(\"BC3/Cross2/Cross2/Line2\", \"VoidVer\")\n",
    "RoadManager.connect_roads_str(\"BC3/Cross2/Cross3/Line2\", \"VoidVer\")\n",
    "RoadManager.connect_roads_str(\"BC3/Cross3/Cross2/Line2\", \"VoidVer\")\n",
    "RoadManager.connect_roads_str(\"BC3/Cross3/Cross3/Line2\", \"VoidVer\")\n",
    "\n",
    "\n",
    "RoadManager.connect_roads_str(\"VoidVer\", \"BC3/Cross2/Cross2/LineWLight3\")\n",
    "RoadManager.connect_roads_str(\"VoidVer\", \"BC3/Cross2/Cross3/LineWLight3\")\n",
    "RoadManager.connect_roads_str(\"VoidVer\", \"BC3/Cross3/Cross2/LineWLight3\")\n",
    "RoadManager.connect_roads_str(\"VoidVer\", \"BC3/Cross3/Cross3/LineWLight3\")\n",
    "\n",
    "RoadManager.connect_roads_str(\"VoidHor\", \"BC3/Cross1/Cross1/LineWLight0\")\n",
    "RoadManager.connect_roads_str(\"VoidHor\", \"BC3/Cross1/Cross3/LineWLight0\")\n",
    "RoadManager.connect_roads_str(\"VoidHor\", \"BC3/Cross3/Cross1/LineWLight0\")\n",
    "RoadManager.connect_roads_str(\"VoidHor\", \"BC3/Cross3/Cross3/LineWLight0\")"
   ]
  },
  {
   "cell_type": "code",
   "execution_count": 13,
   "metadata": {},
   "outputs": [],
   "source": [
    "RoadManager.connect_roads_str(\"BC3/Cross0/Cross0/Line3\", \"BC1/Cross2/Cross2/LineWLight3\")\n",
    "RoadManager.connect_roads_str(\"BC3/Cross0/Cross1/Line3\", \"BC1/Cross2/Cross3/LineWLight3\")\n",
    "RoadManager.connect_roads_str(\"BC3/Cross1/Cross0/Line3\", \"BC1/Cross3/Cross2/LineWLight3\")\n",
    "RoadManager.connect_roads_str(\"BC3/Cross1/Cross1/Line3\", \"BC1/Cross3/Cross3/LineWLight3\")\n",
    "\n",
    "RoadManager.connect_roads_str(\"BC3/Cross0/Cross0/Line0\", \"BC2/Cross1/Cross1/LineWLight0\")\n",
    "RoadManager.connect_roads_str(\"BC3/Cross0/Cross2/Line0\", \"BC2/Cross1/Cross3/LineWLight0\")\n",
    "RoadManager.connect_roads_str(\"BC3/Cross2/Cross0/Line0\", \"BC2/Cross3/Cross1/LineWLight0\")\n",
    "RoadManager.connect_roads_str(\"BC3/Cross2/Cross2/Line0\", \"BC2/Cross3/Cross3/LineWLight0\")\n",
    "\n",
    "\n",
    "# RoadManager.connect_roads_str(\"BC1/Cross2/Cross2/Line2\", \"BC3/Cross0/Cross0/LineWLight2\")\n",
    "# RoadManager.connect_roads_str(\"BC1/Cross2/Cross3/Line2\", \"BC3/Cross0/Cross1/LineWLight2\")\n",
    "# RoadManager.connect_roads_str(\"BC1/Cross3/Cross2/Line2\", \"BC3/Cross1/Cross0/LineWLight2\")\n",
    "# RoadManager.connect_roads_str(\"BC1/Cross3/Cross3/Line2\", \"BC3/Cross1/Cross1/LineWLight2\")\n",
    "\n",
    "# RoadManager.connect_roads_str(\"BC2/Cross1/Cross1/Line1\", \"BC3/Cross0/Cross0/LineWLight1\")\n",
    "# RoadManager.connect_roads_str(\"BC2/Cross1/Cross3/Line1\", \"BC3/Cross0/Cross2/LineWLight1\")\n",
    "# RoadManager.connect_roads_str(\"BC2/Cross3/Cross1/Line1\", \"BC3/Cross2/Cross0/LineWLight1\")\n",
    "# RoadManager.connect_roads_str(\"BC2/Cross3/Cross3/Line1\", \"BC3/Cross2/Cross2/LineWLight1\")"
   ]
  },
  {
   "cell_type": "code",
   "execution_count": 14,
   "metadata": {},
   "outputs": [
    {
     "data": {
      "text/plain": [
       "578"
      ]
     },
     "execution_count": 14,
     "metadata": {},
     "output_type": "execute_result"
    }
   ],
   "source": [
    "len(RoadManager.roads)"
   ]
  },
  {
   "cell_type": "code",
   "execution_count": 8,
   "metadata": {},
   "outputs": [],
   "source": [
    "t = 3000"
   ]
  },
  {
   "cell_type": "code",
   "execution_count": 9,
   "metadata": {},
   "outputs": [
    {
     "name": "stderr",
     "output_type": "stream",
     "text": [
      "100%|██████████████████████████████████████| 3000/3000 [01:11<00:00, 41.98it/s]\n"
     ]
    }
   ],
   "source": [
    "for epoch in tqdm(range(t)):\n",
    "        for road in RoadManager.roads:\n",
    "            road.move_cars(epoch)\n",
    "    \n",
    "        for road in RoadManager.roads:\n",
    "            road.step(epoch)\n",
    "\n",
    "        for road in RoadManager.roads:\n",
    "            road.process_outputs()"
   ]
  },
  {
   "cell_type": "code",
   "execution_count": null,
   "metadata": {},
   "outputs": [],
   "source": [
    "len(cross1._history)"
   ]
  },
  {
   "cell_type": "code",
   "execution_count": 14,
   "metadata": {},
   "outputs": [],
   "source": [
    "image = np.vstack((np.hstack((cross0.render(), cross1.render())), np.hstack((cross2.render(), cross3.render()))))"
   ]
  },
  {
   "cell_type": "code",
   "execution_count": 15,
   "metadata": {},
   "outputs": [
    {
     "data": {
      "image/png": "[encoded data removed]",
      "text/plain": [
       "<Figure size 432x288 with 1 Axes>"
      ]
     },
     "metadata": {
      "needs_background": "light"
     },
     "output_type": "display_data"
    }
   ],
   "source": [
    "fig = plt.figure()\n",
    "im = plt.imshow(image, animated=True)\n",
    "# roads = [cross1, cross2, cross3, cross4, void]\n",
    "\n",
    "def updatefig(frame):\n",
    "#     frame+=t\n",
    "    for road in RoadManager.roads:\n",
    "        road.move_cars(frame)\n",
    "    \n",
    "    for road in RoadManager.roads:\n",
    "        road.step(frame)\n",
    "    \n",
    "    for road in RoadManager.roads:\n",
    "        road.process_outputs()\n",
    "\n",
    "    im.set_array(np.vstack((np.hstack((cross0.render(), cross1.render())), np.hstack((cross2.render(), cross3.render())))))\n",
    "    return im,"
   ]
  },
  {
   "cell_type": "code",
   "execution_count": 16,
   "metadata": {},
   "outputs": [],
   "source": [
    "ani = animation.FuncAnimation(fig, updatefig, interval=100, blit=True, frames= 3000)\n",
    "# HTML(ani.to_html5_video())"
   ]
  },
  {
   "cell_type": "code",
   "execution_count": 17,
   "metadata": {},
   "outputs": [],
   "source": [
    "Writer = animation.writers['ffmpeg']\n",
    "writer = Writer(fps=20, metadata=dict(artist='Me'), bitrate=1800)"
   ]
  },
  {
   "cell_type": "code",
   "execution_count": 18,
   "metadata": {},
   "outputs": [],
   "source": [
    "ani.save('Case4FromNOTEBOOK.mp4', writer=writer)"
   ]
  },
  {
   "cell_type": "code",
   "execution_count": 20,
   "metadata": {
    "scrolled": true
   },
   "outputs": [
    {
     "ename": "IndexError",
     "evalue": "list index out of range",
     "output_type": "error",
     "traceback": [
      "\u001b[0;31m---------------------------------------------------------------------------\u001b[0m",
      "\u001b[0;31mIndexError\u001b[0m                                Traceback (most recent call last)",
      "\u001b[0;32m<ipython-input-20-06b373c11a0c>\u001b[0m in \u001b[0;36m<module>\u001b[0;34m\u001b[0m\n\u001b[1;32m      1\u001b[0m \u001b[0;32mfor\u001b[0m \u001b[0mroad\u001b[0m \u001b[0;32min\u001b[0m \u001b[0mRoadManager\u001b[0m\u001b[0;34m.\u001b[0m\u001b[0mroads\u001b[0m\u001b[0;34m:\u001b[0m\u001b[0;34m\u001b[0m\u001b[0;34m\u001b[0m\u001b[0m\n\u001b[0;32m----> 2\u001b[0;31m     \u001b[0mroad\u001b[0m\u001b[0;34m.\u001b[0m\u001b[0mprocess_outputs\u001b[0m\u001b[0;34m(\u001b[0m\u001b[0;34m)\u001b[0m\u001b[0;34m\u001b[0m\u001b[0;34m\u001b[0m\u001b[0m\n\u001b[0m",
      "\u001b[0;32m/mnt/c/Users/Dima/GitHub/TrafficModeling/road_network/road_and_cars.py\u001b[0m in \u001b[0;36mprocess_outputs\u001b[0;34m(self)\u001b[0m\n\u001b[1;32m    187\u001b[0m \u001b[0;34m\u001b[0m\u001b[0m\n\u001b[1;32m    188\u001b[0m     \u001b[0;32mdef\u001b[0m \u001b[0mprocess_outputs\u001b[0m\u001b[0;34m(\u001b[0m\u001b[0mself\u001b[0m\u001b[0;34m)\u001b[0m\u001b[0;34m:\u001b[0m\u001b[0;34m\u001b[0m\u001b[0;34m\u001b[0m\u001b[0m\n\u001b[0;32m--> 189\u001b[0;31m         \u001b[0;32mreturn\u001b[0m \u001b[0mself\u001b[0m\u001b[0;34m.\u001b[0m\u001b[0mprocess_output\u001b[0m\u001b[0;34m(\u001b[0m\u001b[0;34m)\u001b[0m\u001b[0;34m\u001b[0m\u001b[0;34m\u001b[0m\u001b[0m\n\u001b[0m\u001b[1;32m    190\u001b[0m \u001b[0;34m\u001b[0m\u001b[0m\n\u001b[1;32m    191\u001b[0m     \u001b[0;32mdef\u001b[0m \u001b[0mrender\u001b[0m\u001b[0;34m(\u001b[0m\u001b[0mself\u001b[0m\u001b[0;34m)\u001b[0m\u001b[0;34m:\u001b[0m\u001b[0;34m\u001b[0m\u001b[0;34m\u001b[0m\u001b[0m\n",
      "\u001b[0;32m/mnt/c/Users/Dima/GitHub/TrafficModeling/road_network/road_and_cars.py\u001b[0m in \u001b[0;36mprocess_output\u001b[0;34m(self, direction)\u001b[0m\n\u001b[1;32m    346\u001b[0m \u001b[0;34m\u001b[0m\u001b[0m\n\u001b[1;32m    347\u001b[0m         \u001b[0;31m# this = car.next_point_on_route()\u001b[0m\u001b[0;34m\u001b[0m\u001b[0;34m\u001b[0m\u001b[0;34m\u001b[0m\u001b[0m\n\u001b[0;32m--> 348\u001b[0;31m         \u001b[0;32mif\u001b[0m \u001b[0mself\u001b[0m\u001b[0;34m.\u001b[0m\u001b[0m_outputs\u001b[0m\u001b[0;34m[\u001b[0m\u001b[0;36m0\u001b[0m\u001b[0;34m]\u001b[0m\u001b[0;34m[\u001b[0m\u001b[0;36m0\u001b[0m\u001b[0;34m]\u001b[0m\u001b[0;34m.\u001b[0m\u001b[0madd_car\u001b[0m\u001b[0;34m(\u001b[0m\u001b[0mcar\u001b[0m\u001b[0;34m,\u001b[0m \u001b[0mself\u001b[0m\u001b[0;34m.\u001b[0m\u001b[0m_outputs\u001b[0m\u001b[0;34m[\u001b[0m\u001b[0;36m0\u001b[0m\u001b[0;34m]\u001b[0m\u001b[0;34m[\u001b[0m\u001b[0;36m1\u001b[0m\u001b[0;34m]\u001b[0m\u001b[0;34m)\u001b[0m\u001b[0;34m:\u001b[0m\u001b[0;34m\u001b[0m\u001b[0;34m\u001b[0m\u001b[0m\n\u001b[0m\u001b[1;32m    349\u001b[0m             \u001b[0mself\u001b[0m\u001b[0;34m.\u001b[0m\u001b[0mset_state\u001b[0m\u001b[0;34m(\u001b[0m\u001b[0mself\u001b[0m\u001b[0;34m.\u001b[0m\u001b[0mend\u001b[0m\u001b[0;34m,\u001b[0m \u001b[0;36m0\u001b[0m\u001b[0;34m)\u001b[0m\u001b[0;34m\u001b[0m\u001b[0;34m\u001b[0m\u001b[0m\n\u001b[1;32m    350\u001b[0m             \u001b[0mself\u001b[0m\u001b[0;34m.\u001b[0m\u001b[0m_remove_car\u001b[0m\u001b[0;34m(\u001b[0m\u001b[0mcar_id\u001b[0m\u001b[0;34m)\u001b[0m\u001b[0;34m\u001b[0m\u001b[0;34m\u001b[0m\u001b[0m\n",
      "\u001b[0;31mIndexError\u001b[0m: list index out of range"
     ]
    }
   ],
   "source": [
    "for road in RoadManager.roads:\n",
    "    road.process_outputs()"
   ]
  },
  {
   "cell_type": "code",
   "execution_count": 24,
   "metadata": {},
   "outputs": [
    {
     "data": {
      "text/plain": [
       "BC1/Cross1/Cross0/Line3"
      ]
     },
     "execution_count": 24,
     "metadata": {},
     "output_type": "execute_result"
    }
   ],
   "source": [
    "road"
   ]
  },
  {
   "cell_type": "code",
   "execution_count": null,
   "metadata": {},
   "outputs": [],
   "source": []
  },
  {
   "cell_type": "code",
   "execution_count": null,
   "metadata": {},
   "outputs": [],
   "source": []
  },
  {
   "cell_type": "code",
   "execution_count": null,
   "metadata": {},
   "outputs": [],
   "source": []
  },
  {
   "cell_type": "code",
   "execution_count": 19,
   "metadata": {},
   "outputs": [],
   "source": [
    "# results = np.zeros_like(void.get_stats(), dtype=\"float32\")\n",
    "results = np.zeros_like(np.array(void_hor.get_stats()), dtype=\"float32\")\n",
    "for road in RoadManager.roads:\n",
    "    results += np.array(road.get_stats())"
   ]
  },
  {
   "cell_type": "code",
   "execution_count": 20,
   "metadata": {},
   "outputs": [
    {
     "data": {
      "text/plain": [
       "14716"
      ]
     },
     "execution_count": 20,
     "metadata": {},
     "output_type": "execute_result"
    }
   ],
   "source": [
    "len(CarManager.all_cars)"
   ]
  },
  {
   "cell_type": "code",
   "execution_count": 21,
   "metadata": {},
   "outputs": [],
   "source": [
    "np.save(\"case_100500.npy\", results)"
   ]
  },
  {
   "cell_type": "code",
   "execution_count": 22,
   "metadata": {},
   "outputs": [
    {
     "name": "stderr",
     "output_type": "stream",
     "text": [
      "/home/admitri/.local/lib/python3.6/site-packages/ipykernel_launcher.py:2: RuntimeWarning: invalid value encountered in true_divide\n",
      "  \n"
     ]
    }
   ],
   "source": [
    "density = results[:, 1]/results[:, 0]\n",
    "speed = results[:, 2]/results[:, 1]\n",
    "speed[np.isnan(speed)] = 0\n",
    "flow = speed*density\n",
    "density_speed_flow = np.hstack((density.reshape((-1, 1)), speed.reshape((-1, 1)), flow.reshape((-1, 1))))"
   ]
  },
  {
   "cell_type": "code",
   "execution_count": 24,
   "metadata": {},
   "outputs": [],
   "source": [
    "from scipy.signal import savgol_filter"
   ]
  },
  {
   "cell_type": "code",
   "execution_count": 25,
   "metadata": {},
   "outputs": [
    {
     "data": {
      "text/plain": [
       "<matplotlib.legend.Legend at 0x7f43eb4df470>"
      ]
     },
     "execution_count": 25,
     "metadata": {},
     "output_type": "execute_result"
    },
    {
     "data": {
      "image/png": "[encoded data removed]",
      "text/plain": [
       "<Figure size 432x288 with 1 Axes>"
      ]
     },
     "metadata": {
      "needs_background": "light"
     },
     "output_type": "display_data"
    }
   ],
   "source": [
    "plt.plot(density)\n",
    "plt.plot(savgol_filter(speed, 101, 3))\n",
    "plt.plot(savgol_filter(flow, 101, 3))\n",
    "plt.legend([\"Density\", \"Speed\", \"Flow\"])"
   ]
  },
  {
   "cell_type": "code",
   "execution_count": null,
   "metadata": {},
   "outputs": [],
   "source": []
  },
  {
   "cell_type": "code",
   "execution_count": 26,
   "metadata": {},
   "outputs": [
    {
     "data": {
      "text/plain": [
       "Text(0, 0.5, 'Traffic flow')"
      ]
     },
     "execution_count": 26,
     "metadata": {},
     "output_type": "execute_result"
    },
    {
     "data": {
      "image/png": "[encoded data removed]",
      "text/plain": [
       "<Figure size 432x288 with 3 Axes>"
      ]
     },
     "metadata": {},
     "output_type": "display_data"
    }
   ],
   "source": [
    "plt.subplot(2,2,1)\n",
    "plt.xticks([]), plt.yticks([])\n",
    "# plt.title('1')\n",
    "plt.plot(density_speed_flow[:, 0], density_speed_flow[:, 2], alpha=.5, )\n",
    "plt.xlabel(\"Density\")\n",
    "plt.ylabel(\"Traffic flow\")\n",
    " \n",
    "plt.subplot(2,2,2)\n",
    "plt.xticks([]), plt.yticks([])\n",
    "# plt.title('2')\n",
    "plt.plot(density_speed_flow[:, 0], density_speed_flow[:, 1], alpha=.5, )\n",
    "plt.xlabel(\"Density\")\n",
    "plt.ylabel(\"Speed\")\n",
    "\n",
    "plt.subplot(2,2,3)\n",
    "plt.xticks([]), plt.yticks([])\n",
    "# plt.title('3')\n",
    "plt.plot(density_speed_flow[:, 1], density_speed_flow[:, 2], alpha=.5, )\n",
    "plt.xlabel(\"Speed\")\n",
    "plt.ylabel(\"Traffic flow\")"
   ]
  },
  {
   "cell_type": "code",
   "execution_count": 27,
   "metadata": {},
   "outputs": [
    {
     "data": {
      "text/plain": [
       "Text(0, 0.5, 'Traffic flow')"
      ]
     },
     "execution_count": 27,
     "metadata": {},
     "output_type": "execute_result"
    },
    {
     "data": {
      "image/png": "[encoded data removed]",
      "text/plain": [
       "<Figure size 432x288 with 1 Axes>"
      ]
     },
     "metadata": {
      "needs_background": "light"
     },
     "output_type": "display_data"
    }
   ],
   "source": [
    "plt.scatter(density_speed_flow[:, 0], density_speed_flow[:, 2], alpha=.5, )\n",
    "plt.xlabel(\"Density\")\n",
    "plt.ylabel(\"Traffic flow\")"
   ]
  },
  {
   "cell_type": "code",
   "execution_count": 28,
   "metadata": {},
   "outputs": [
    {
     "data": {
      "text/plain": [
       "Text(0, 0.5, 'Speed')"
      ]
     },
     "execution_count": 28,
     "metadata": {},
     "output_type": "execute_result"
    },
    {
     "data": {
      "image/png": "[encoded data removed]",
      "text/plain": [
       "<Figure size 432x288 with 1 Axes>"
      ]
     },
     "metadata": {
      "needs_background": "light"
     },
     "output_type": "display_data"
    }
   ],
   "source": [
    "plt.scatter(density_speed_flow[:, 0], density_speed_flow[:, 1], alpha=.5, )\n",
    "plt.xlabel(\"Density\")\n",
    "plt.ylabel(\"Speed\")"
   ]
  },
  {
   "cell_type": "code",
   "execution_count": 29,
   "metadata": {},
   "outputs": [
    {
     "data": {
      "text/plain": [
       "Text(0, 0.5, 'Traffic flow')"
      ]
     },
     "execution_count": 29,
     "metadata": {},
     "output_type": "execute_result"
    },
    {
     "data": {
      "image/png": "[encoded data removed]",
      "text/plain": [
       "<Figure size 432x288 with 1 Axes>"
      ]
     },
     "metadata": {
      "needs_background": "light"
     },
     "output_type": "display_data"
    }
   ],
   "source": [
    "plt.scatter(density_speed_flow[:, 1], density_speed_flow[:, 2], alpha=.5, )\n",
    "plt.xlabel(\"Speed\")\n",
    "plt.ylabel(\"Traffic flow\")"
   ]
  },
  {
   "cell_type": "code",
   "execution_count": 30,
   "metadata": {},
   "outputs": [
    {
     "data": {
      "text/plain": [
       "Text(0.5, 0, 'Flow')"
      ]
     },
     "execution_count": 30,
     "metadata": {},
     "output_type": "execute_result"
    },
    {
     "data": {
      "image/png": "[encoded data removed]",
      "text/plain": [
       "<Figure size 432x288 with 1 Axes>"
      ]
     },
     "metadata": {
      "needs_background": "light"
     },
     "output_type": "display_data"
    }
   ],
   "source": [
    "from mpl_toolkits.mplot3d import Axes3D\n",
    "fig = plt.figure()\n",
    "ax = fig.add_subplot(111, projection='3d')\n",
    "ax.scatter(density_speed_flow[:, 0].tolist(), density_speed_flow[:, 1].tolist(), density_speed_flow[:, 2].tolist())\n",
    "ax.set_xlabel('Density')\n",
    "ax.set_ylabel('Speed')\n",
    "ax.set_zlabel('Flow')"
   ]
  },
  {
   "cell_type": "markdown",
   "metadata": {},
   "source": [
    "# Collecting data"
   ]
  },
  {
   "cell_type": "code",
   "execution_count": null,
   "metadata": {},
   "outputs": [],
   "source": [
    "from tqdm import tqdm\n",
    "import pickle"
   ]
  },
  {
   "cell_type": "code",
   "execution_count": null,
   "metadata": {},
   "outputs": [],
   "source": [
    "NUM_EPOCH = 2000\n",
    "LAST_N = 1100\n",
    "N_STEPS = 10\n",
    "RED = 20\n",
    "GREEn = 10"
   ]
  },
  {
   "cell_type": "code",
   "execution_count": null,
   "metadata": {},
   "outputs": [],
   "source": [
    "def execute_with(p:int):\n",
    "    data = defaultdict(lambda : np.zeros((LAST_N, 3)))\n",
    "    cross1 = CrossroadAndLines2x2(10, RED, GREEn)\n",
    "    cross2 = CrossroadAndLines2x2(10, RED, GREEn)\n",
    "    cross3 = CrossroadAndLines2x2(10, RED, GREEn)\n",
    "    cross4 = CrossroadAndLines2x2(10, RED, GREEn)\n",
    "\n",
    "    void_ver = VoidGenerator(p, random_walk=True, p_rot=[.35, .35, .15, .15], first_n = 4)\n",
    "    void_hor = VoidGenerator(p, random_walk=True, p_rot=[.15, .15, .35, .35], first_n = 4)\n",
    "    ############################################################\n",
    "    ############################################################\n",
    "    cross1.crossroad1.output_roads[0].add_output(void_hor, 0, 0)\n",
    "    cross1.crossroad1.output_roads[3].add_output(void_ver, 0, 1)\n",
    "\n",
    "    cross1.crossroad2.output_roads[1].add_output(cross2.crossroad1.input_roads[1], 0, 0)\n",
    "    cross1.crossroad2.output_roads[3].add_output(void_ver, 0, 2)\n",
    "\n",
    "    cross1.crossroad3.output_roads[0].add_output(void_hor, 0, 3)\n",
    "    cross1.crossroad3.output_roads[2].add_output(cross3.crossroad1.input_roads[2], 0, 0)\n",
    "\n",
    "    cross1.crossroad4.output_roads[1].add_output(cross2.crossroad3.input_roads[1], 0, 0)\n",
    "    cross1.crossroad4.output_roads[2].add_output(cross3.crossroad2.input_roads[2], 0, 0)\n",
    "\n",
    "    ################################################################\n",
    "    cross2.crossroads[0].output_roads[0].add_output(cross1.crossroad2.input_roads[0], 0, 0)\n",
    "    cross2.crossroads[0].output_roads[3].add_output(void_ver, 0, 4)\n",
    "\n",
    "    cross2.crossroads[1].output_roads[1].add_output(void_hor, 0, 5)\n",
    "    cross2.crossroads[1].output_roads[3].add_output(void_ver, 0, 6)\n",
    "\n",
    "    cross2.crossroads[2].output_roads[0].add_output(cross1.crossroad4.input_roads[0], 0, 0)\n",
    "    cross2.crossroads[2].output_roads[2].add_output(cross4.crossroad1.input_roads[2], 0, 0)\n",
    "\n",
    "    cross2.crossroads[3].output_roads[1].add_output(void_hor, 0, 7)\n",
    "    cross2.crossroads[3].output_roads[2].add_output(cross4.crossroad2.input_roads[2], 0, 0)\n",
    "\n",
    "    ################################################################\n",
    "    cross3.crossroads[0].output_roads[0].add_output(void_hor, 0, 8)\n",
    "    cross3.crossroads[0].output_roads[3].add_output(cross1.crossroad3.input_roads[3], 0, 0)\n",
    "\n",
    "    cross3.crossroads[1].output_roads[1].add_output(cross4.crossroad1.input_roads[1], 0, 0)\n",
    "    cross3.crossroads[1].output_roads[3].add_output(cross1.crossroad4.input_roads[3], 0, 0)\n",
    "\n",
    "    cross3.crossroads[2].output_roads[0].add_output(void_hor, 0, 9)\n",
    "    cross3.crossroads[2].output_roads[2].add_output(void_ver, 0, 10)\n",
    "\n",
    "    cross3.crossroads[3].output_roads[1].add_output(cross4.crossroad3.input_roads[1], 0, 0)\n",
    "    cross3.crossroads[3].output_roads[2].add_output(void_ver, 0, 11)\n",
    "\n",
    "    ################################################################\n",
    "    cross4.crossroads[0].output_roads[0].add_output(cross3.crossroad2.input_roads[0], 0, 0)\n",
    "    cross4.crossroads[0].output_roads[3].add_output(cross2.crossroad3.input_roads[3], 0, 0)\n",
    "\n",
    "    cross4.crossroads[1].output_roads[1].add_output(void_hor, 0, 12)\n",
    "    cross4.crossroads[1].output_roads[3].add_output(cross2.crossroad4.input_roads[3], 0, 0)\n",
    "\n",
    "    cross4.crossroads[2].output_roads[0].add_output(cross3.crossroads[3].input_roads[0], 0, 0)\n",
    "    cross4.crossroads[2].output_roads[2].add_output(void_ver, 0, 13)\n",
    "\n",
    "    cross4.crossroads[3].output_roads[1].add_output(void_hor, 0, 14)\n",
    "    cross4.crossroads[3].output_roads[2].add_output(void_ver, 0, 15)\n",
    "    ############################################################\n",
    "    ############################################################\n",
    "    void_hor.add_output(cross1.crossroads[0].input_roads[1], 0)\n",
    "    void_ver.add_output(cross1.crossroads[0].input_roads[2], 1)\n",
    "\n",
    "    void_ver.add_output(cross1.crossroads[1].input_roads[2], 2)\n",
    "    void_hor.add_output(cross1.crossroads[2].input_roads[1], 3)\n",
    "\n",
    "    #######################################################\n",
    "    void_hor.add_output(cross2.crossroads[1].input_roads[0], 4)\n",
    "    void_ver.add_output(cross2.crossroads[1].input_roads[2], 5)\n",
    "\n",
    "    void_ver.add_output(cross2.crossroads[0].input_roads[2], 6)\n",
    "    void_hor.add_output(cross2.crossroads[3].input_roads[0], 7)\n",
    "\n",
    "    #######################################################\n",
    "    void_hor.add_output(cross3.crossroads[2].input_roads[1], 8)\n",
    "    void_ver.add_output(cross3.crossroads[2].input_roads[3], 9)\n",
    "\n",
    "    void_hor.add_output(cross3.crossroads[0].input_roads[1], 10)\n",
    "    void_ver.add_output(cross3.crossroads[3].input_roads[3], 11)\n",
    "\n",
    "    #######################################################\n",
    "    void_hor.add_output(cross4.crossroads[3].input_roads[0], 12)\n",
    "    void_ver.add_output(cross4.crossroads[3].input_roads[3], 13)\n",
    "\n",
    "    void_hor.add_output(cross4.crossroads[1].input_roads[0], 14)\n",
    "    void_ver.add_output(cross4.crossroads[2].input_roads[3], 15)\n",
    "    \n",
    "    \n",
    "#     roads = [cross1, cross2, cross3, cross4, void]\n",
    "    \n",
    "    for epoch in tqdm(range(NUM_EPOCH), total = NUM_EPOCH):\n",
    "        for road in RoadManager.roads:\n",
    "            road.move_cars(epoch)\n",
    "    \n",
    "        for road in RoadManager.roads:\n",
    "            road.step(epoch)\n",
    "\n",
    "        for road in RoadManager.roads:\n",
    "            road.process_outputs()\n",
    "    \n",
    "#     stats = np.zeros((LAST_N, 4))\n",
    "    results = np.zeros((NUM_EPOCH, 3), dtype=\"float32\")\n",
    "    for road in RoadManager.roads:\n",
    "        results += np.array(road.get_stats()[-NUM_EPOCH:])\n",
    "    \n",
    "    for car in CarManager.all_cars:\n",
    "        del car\n",
    "    \n",
    "    CarManager.all_cars = []\n",
    "    return results"
   ]
  },
  {
   "cell_type": "code",
   "execution_count": null,
   "metadata": {},
   "outputs": [],
   "source": [
    "road.get_stats()"
   ]
  },
  {
   "cell_type": "code",
   "execution_count": null,
   "metadata": {},
   "outputs": [],
   "source": [
    "results = np.array([0, 0, 0])\n",
    "for p in (.1, .3, .5, .6, .7):\n",
    "    results = np.vstack((results, execute_with(p)))"
   ]
  },
  {
   "cell_type": "code",
   "execution_count": null,
   "metadata": {},
   "outputs": [],
   "source": [
    "result = results"
   ]
  },
  {
   "cell_type": "code",
   "execution_count": null,
   "metadata": {},
   "outputs": [],
   "source": [
    "density = result[:, 1]/result[:, 0]\n",
    "speed = result[:, 2]/result[:, 1]\n",
    "speed[np.isnan(speed)] = 0\n",
    "flow = speed*density\n",
    "density_speed_flow = np.hstack((density.reshape((-1, 1)), speed.reshape((-1, 1)), flow.reshape((-1, 1))))"
   ]
  },
  {
   "cell_type": "code",
   "execution_count": null,
   "metadata": {},
   "outputs": [],
   "source": [
    "np.save(\"superstatistic.npy\", density_speed_flow)"
   ]
  },
  {
   "cell_type": "code",
   "execution_count": null,
   "metadata": {},
   "outputs": [],
   "source": [
    "plt.scatter(density_speed_flow[:, 0], density_speed_flow[:, 2], alpha=.5, )\n",
    "plt.xlabel(\"Density\")\n",
    "plt.ylabel(\"Traffic flow\")"
   ]
  },
  {
   "cell_type": "code",
   "execution_count": null,
   "metadata": {},
   "outputs": [],
   "source": [
    "plt.scatter(density_speed_flow[:, 0], density_speed_flow[:, 1], alpha=.5, )\n",
    "plt.xlabel(\"Density\")\n",
    "plt.ylabel(\"Speed\")"
   ]
  },
  {
   "cell_type": "code",
   "execution_count": null,
   "metadata": {},
   "outputs": [],
   "source": [
    "plt.scatter(density_speed_flow[:, 1], density_speed_flow[:, 2], alpha=.5, )\n",
    "plt.xlabel(\"Speed\")\n",
    "plt.ylabel(\"Traffic flow\")"
   ]
  },
  {
   "cell_type": "code",
   "execution_count": null,
   "metadata": {},
   "outputs": [],
   "source": []
  },
  {
   "cell_type": "code",
   "execution_count": null,
   "metadata": {},
   "outputs": [],
   "source": [
    "from mpl_toolkits.mplot3d import Axes3D\n",
    "fig = plt.figure()\n",
    "ax = fig.add_subplot(111, projection='3d')\n",
    "ax.scatter(density_speed_flow[:, 0].tolist(), density_speed_flow[:, 1].tolist(), density_speed_flow[:, 2].tolist())\n",
    "ax.set_xlabel('Density')\n",
    "ax.set_ylabel('Speed')\n",
    "ax.set_zlabel('Flow')"
   ]
  },
  {
   "cell_type": "code",
   "execution_count": null,
   "metadata": {},
   "outputs": [],
   "source": [
    "Axes3D.scatter(density_speed_flow[:, 0].tolist(), density_speed_flow[:, 1].tolist(), density_speed_flow[:, 2].tolist())"
   ]
  },
  {
   "cell_type": "code",
   "execution_count": null,
   "metadata": {},
   "outputs": [],
   "source": []
  },
  {
   "cell_type": "code",
   "execution_count": null,
   "metadata": {},
   "outputs": [],
   "source": []
  },
  {
   "cell_type": "code",
   "execution_count": null,
   "metadata": {},
   "outputs": [],
   "source": [
    "cross = Crossroad(1, 1, 1, 1, rotate=True)"
   ]
  },
  {
   "cell_type": "code",
   "execution_count": null,
   "metadata": {},
   "outputs": [],
   "source": [
    "cross.add_car(Car(rotate_in_case = True), 1)\n",
    "cross.add_car(Car(rotate_in_case = True), 2)"
   ]
  },
  {
   "cell_type": "code",
   "execution_count": null,
   "metadata": {},
   "outputs": [],
   "source": [
    "cross.move_cars()\n",
    "cross.step()\n",
    "plt.imshow(cross.render())\n",
    "cross._cars[1].position(), cross._cars[1].speed_code, cross._cars[1].counter"
   ]
  },
  {
   "cell_type": "code",
   "execution_count": null,
   "metadata": {},
   "outputs": [],
   "source": [
    "cross.n_left < cross._cars[1].position()[0] and cross.is_empty(cross._cars[1].position() + speeds[4])"
   ]
  },
  {
   "cell_type": "code",
   "execution_count": null,
   "metadata": {},
   "outputs": [],
   "source": [
    "cross.is_empty(cross._cars[1].position() + speeds[4])"
   ]
  },
  {
   "cell_type": "code",
   "execution_count": null,
   "metadata": {},
   "outputs": [],
   "source": [
    "cross._cars[1].position(), cross._cars[1].speed_code, cross._cars[1].counter"
   ]
  },
  {
   "cell_type": "code",
   "execution_count": null,
   "metadata": {},
   "outputs": [],
   "source": []
  }
 ],
 "metadata": {
  "kernelspec": {
   "display_name": "Python 3",
   "language": "python",
   "name": "python3"
  },
  "language_info": {
   "codemirror_mode": {
    "name": "ipython",
    "version": 3
   },
   "file_extension": ".py",
   "mimetype": "text/x-python",
   "name": "python",
   "nbconvert_exporter": "python",
   "pygments_lexer": "ipython3",
   "version": "3.6.7"
  }
 },
 "nbformat": 4,
 "nbformat_minor": 2
}
