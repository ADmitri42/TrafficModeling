{
 "cells": [
  {
   "cell_type": "code",
   "execution_count": 1,
   "metadata": {},
   "outputs": [],
   "source": [
    "from collections import defaultdict\n",
    "import os\n",
    "import json\n",
    "from tqdm import tqdm\n",
    "import numpy as np\n",
    "import matplotlib.pyplot as plt\n",
    "\n",
    "import matplotlib.animation as animation\n",
    "from IPython.display import HTML\n",
    "\n",
    "%matplotlib inline"
   ]
  },
  {
   "cell_type": "code",
   "execution_count": 2,
   "metadata": {},
   "outputs": [],
   "source": [
    "from road_network.road_and_cars import VoidGenerator, CarManager, RoadManager, speeds, Car\n",
    "from road_network.prebuild_set import CrossroadAndLines4x4"
   ]
  },
  {
   "cell_type": "code",
   "execution_count": 3,
   "metadata": {},
   "outputs": [],
   "source": [
    "RED = 20\n",
    "GREEN = 10\n",
    "TYPE = \"case2\"\n",
    "EPOCHS = 500"
   ]
  },
  {
   "cell_type": "markdown",
   "metadata": {},
   "source": [
    "x - вниз  \n",
    "y - вправо\n",
    "\n",
    "      1  \n",
    "    2 0 4  \n",
    "      3"
   ]
  },
  {
   "cell_type": "code",
   "execution_count": 4,
   "metadata": {},
   "outputs": [
    {
     "name": "stdout",
     "output_type": "stream",
     "text": [
      "Case 2\n"
     ]
    }
   ],
   "source": [
    "if TYPE == \"case1\":\n",
    "    print(\"Case 1\")\n",
    "    ROTARY_2 = False\n",
    "    ROTATE_IN_JUNK = False\n",
    "    RANDOM_WALK = False\n",
    "elif TYPE == \"case2\":\n",
    "    print(\"Case 2\")\n",
    "    ROTARY_2 = False\n",
    "    ROTATE_IN_JUNK = False\n",
    "    RANDOM_WALK = True\n",
    "elif TYPE == \"case3\":\n",
    "    print(\"Case 3\")\n",
    "    ROTARY_2 = False\n",
    "    ROTATE_IN_JUNK = True\n",
    "    RANDOM_WALK = True\n",
    "elif TYPE == \"case4\":\n",
    "    print(\"Case 4\")\n",
    "    ROTARY_2 = True\n",
    "    ROTATE_IN_JUNK = False\n",
    "    RANDOM_WALK = False"
   ]
  },
  {
   "cell_type": "code",
   "execution_count": 5,
   "metadata": {},
   "outputs": [],
   "source": [
    "def initialize_map(red, green, rot_2):\n",
    "    cross0 = CrossroadAndLines4x4(10, red, green, rotary_2=rot_2, name=\"BC0\")\n",
    "    cross1 = CrossroadAndLines4x4(10, red, green, rotary_2=rot_2, name=\"BC1\")\n",
    "    cross2 = CrossroadAndLines4x4(10, red, green, rotary_2=rot_2, name=\"BC2\")\n",
    "    cross3 = CrossroadAndLines4x4(10, red, green, rotary_2=rot_2, name=\"BC3\")\n",
    "    void = VoidGenerator(name=\"Void\")\n",
    "    \n",
    "    RoadManager.connect_roads_str(\"BC0/Cross0/Cross0/Line3\", \"BC2/Cross2/Cross2/LineWLight3\")\n",
    "    RoadManager.connect_roads_str(\"BC0/Cross0/Cross1/Line3\", \"BC2/Cross2/Cross3/LineWLight3\")\n",
    "    RoadManager.connect_roads_str(\"BC0/Cross1/Cross0/Line3\", \"BC2/Cross3/Cross2/LineWLight3\")\n",
    "    RoadManager.connect_roads_str(\"BC0/Cross1/Cross1/Line3\", \"BC2/Cross3/Cross3/LineWLight3\")\n",
    "\n",
    "    RoadManager.connect_roads_str(\"BC0/Cross0/Cross0/Line0\", \"BC1/Cross1/Cross1/LineWLight0\")\n",
    "    RoadManager.connect_roads_str(\"BC0/Cross0/Cross2/Line0\", \"BC1/Cross1/Cross3/LineWLight0\")\n",
    "    RoadManager.connect_roads_str(\"BC0/Cross2/Cross0/Line0\", \"BC1/Cross3/Cross1/LineWLight0\") \n",
    "    RoadManager.connect_roads_str(\"BC0/Cross2/Cross2/Line0\", \"BC1/Cross3/Cross3/LineWLight0\")\n",
    "\n",
    "    RoadManager.connect_roads_str(\"BC0/Cross1/Cross1/Line1\", \"BC1/Cross0/Cross0/LineWLight1\")\n",
    "    RoadManager.connect_roads_str(\"BC0/Cross1/Cross3/Line1\", \"BC1/Cross0/Cross2/LineWLight1\")\n",
    "    RoadManager.connect_roads_str(\"BC0/Cross3/Cross1/Line1\", \"BC1/Cross2/Cross0/LineWLight1\")\n",
    "    RoadManager.connect_roads_str(\"BC0/Cross3/Cross3/Line1\", \"BC1/Cross2/Cross2/LineWLight1\")\n",
    "\n",
    "    RoadManager.connect_roads_str(\"BC0/Cross2/Cross2/Line2\", \"BC2/Cross0/Cross0/LineWLight2\")\n",
    "    RoadManager.connect_roads_str(\"BC0/Cross2/Cross3/Line2\", \"BC2/Cross0/Cross1/LineWLight2\")\n",
    "    RoadManager.connect_roads_str(\"BC0/Cross3/Cross2/Line2\", \"BC2/Cross1/Cross0/LineWLight2\")\n",
    "    RoadManager.connect_roads_str(\"BC0/Cross3/Cross3/Line2\", \"BC2/Cross1/Cross1/LineWLight2\")\n",
    "\n",
    "    RoadManager.connect_roads_str(\"BC1/Cross0/Cross0/Line3\", \"BC3/Cross2/Cross2/LineWLight3\")\n",
    "    RoadManager.connect_roads_str(\"BC1/Cross0/Cross1/Line3\", \"BC3/Cross2/Cross3/LineWLight3\")\n",
    "    RoadManager.connect_roads_str(\"BC1/Cross1/Cross0/Line3\", \"BC3/Cross3/Cross2/LineWLight3\")\n",
    "    RoadManager.connect_roads_str(\"BC1/Cross1/Cross1/Line3\", \"BC3/Cross3/Cross3/LineWLight3\")\n",
    "\n",
    "    RoadManager.connect_roads_str(\"BC1/Cross1/Cross1/Line1\", \"BC0/Cross0/Cross0/LineWLight1\")\n",
    "    RoadManager.connect_roads_str(\"BC1/Cross1/Cross3/Line1\", \"BC0/Cross0/Cross2/LineWLight1\")\n",
    "    RoadManager.connect_roads_str(\"BC1/Cross3/Cross1/Line1\", \"BC0/Cross2/Cross0/LineWLight1\")\n",
    "    RoadManager.connect_roads_str(\"BC1/Cross3/Cross3/Line1\", \"BC0/Cross2/Cross2/LineWLight1\")\n",
    "\n",
    "    RoadManager.connect_roads_str(\"BC1/Cross0/Cross0/Line0\", \"BC0/Cross1/Cross1/LineWLight0\")\n",
    "    RoadManager.connect_roads_str(\"BC1/Cross0/Cross2/Line0\", \"BC0/Cross1/Cross3/LineWLight0\")\n",
    "    RoadManager.connect_roads_str(\"BC1/Cross2/Cross0/Line0\", \"BC0/Cross3/Cross1/LineWLight0\")\n",
    "    RoadManager.connect_roads_str(\"BC1/Cross2/Cross2/Line0\", \"BC0/Cross3/Cross3/LineWLight0\")\n",
    "\n",
    "    RoadManager.connect_roads_str(\"BC1/Cross2/Cross2/Line2\", \"BC3/Cross0/Cross0/LineWLight2\")\n",
    "    RoadManager.connect_roads_str(\"BC1/Cross2/Cross3/Line2\", \"BC3/Cross0/Cross1/LineWLight2\")\n",
    "    RoadManager.connect_roads_str(\"BC1/Cross3/Cross2/Line2\", \"BC3/Cross1/Cross0/LineWLight2\")\n",
    "    RoadManager.connect_roads_str(\"BC1/Cross3/Cross3/Line2\", \"BC3/Cross1/Cross1/LineWLight2\")\n",
    "\n",
    "    RoadManager.connect_roads_str(\"BC2/Cross0/Cross0/Line0\", \"BC3/Cross1/Cross1/LineWLight0\")\n",
    "    RoadManager.connect_roads_str(\"BC2/Cross0/Cross2/Line0\", \"BC3/Cross1/Cross3/LineWLight0\")\n",
    "    RoadManager.connect_roads_str(\"BC2/Cross2/Cross0/Line0\", \"BC3/Cross3/Cross1/LineWLight0\")\n",
    "    RoadManager.connect_roads_str(\"BC2/Cross2/Cross2/Line0\", \"BC3/Cross3/Cross3/LineWLight0\")\n",
    "\n",
    "    RoadManager.connect_roads_str(\"BC2/Cross2/Cross2/Line2\", \"BC0/Cross0/Cross0/LineWLight2\")\n",
    "    RoadManager.connect_roads_str(\"BC2/Cross2/Cross3/Line2\", \"BC0/Cross0/Cross1/LineWLight2\")\n",
    "    RoadManager.connect_roads_str(\"BC2/Cross3/Cross2/Line2\", \"BC0/Cross1/Cross0/LineWLight2\")\n",
    "    RoadManager.connect_roads_str(\"BC2/Cross3/Cross3/Line2\", \"BC0/Cross1/Cross1/LineWLight2\")\n",
    "\n",
    "    RoadManager.connect_roads_str(\"BC2/Cross0/Cross0/Line3\", \"BC0/Cross2/Cross2/LineWLight3\")\n",
    "    RoadManager.connect_roads_str(\"BC2/Cross0/Cross1/Line3\", \"BC0/Cross2/Cross3/LineWLight3\")\n",
    "    RoadManager.connect_roads_str(\"BC2/Cross1/Cross0/Line3\", \"BC0/Cross3/Cross2/LineWLight3\")\n",
    "    RoadManager.connect_roads_str(\"BC2/Cross1/Cross1/Line3\", \"BC0/Cross3/Cross3/LineWLight3\")\n",
    "\n",
    "    RoadManager.connect_roads_str(\"BC2/Cross1/Cross1/Line1\", \"BC3/Cross0/Cross0/LineWLight1\")\n",
    "    RoadManager.connect_roads_str(\"BC2/Cross1/Cross3/Line1\", \"BC3/Cross0/Cross2/LineWLight1\")\n",
    "    RoadManager.connect_roads_str(\"BC2/Cross3/Cross1/Line1\", \"BC3/Cross2/Cross0/LineWLight1\")\n",
    "    RoadManager.connect_roads_str(\"BC2/Cross3/Cross3/Line1\", \"BC3/Cross2/Cross2/LineWLight1\")\n",
    "\n",
    "    RoadManager.connect_roads_str(\"BC3/Cross1/Cross1/Line1\", \"BC2/Cross0/Cross0/LineWLight1\")\n",
    "    RoadManager.connect_roads_str(\"BC3/Cross1/Cross3/Line1\", \"BC2/Cross0/Cross2/LineWLight1\")\n",
    "    RoadManager.connect_roads_str(\"BC3/Cross3/Cross1/Line1\", \"BC2/Cross2/Cross0/LineWLight1\")\n",
    "    RoadManager.connect_roads_str(\"BC3/Cross3/Cross3/Line1\", \"BC2/Cross2/Cross2/LineWLight1\")\n",
    "\n",
    "    RoadManager.connect_roads_str(\"BC3/Cross2/Cross2/Line2\", \"BC1/Cross0/Cross0/LineWLight2\")\n",
    "    RoadManager.connect_roads_str(\"BC3/Cross2/Cross3/Line2\", \"BC1/Cross0/Cross1/LineWLight2\")\n",
    "    RoadManager.connect_roads_str(\"BC3/Cross3/Cross2/Line2\", \"BC1/Cross1/Cross0/LineWLight2\")\n",
    "    RoadManager.connect_roads_str(\"BC3/Cross3/Cross3/Line2\", \"BC1/Cross1/Cross1/LineWLight2\")\n",
    "\n",
    "    RoadManager.connect_roads_str(\"BC3/Cross0/Cross0/Line3\", \"BC1/Cross2/Cross2/LineWLight3\")\n",
    "    RoadManager.connect_roads_str(\"BC3/Cross0/Cross1/Line3\", \"BC1/Cross2/Cross3/LineWLight3\")\n",
    "    RoadManager.connect_roads_str(\"BC3/Cross1/Cross0/Line3\", \"BC1/Cross3/Cross2/LineWLight3\")\n",
    "    RoadManager.connect_roads_str(\"BC3/Cross1/Cross1/Line3\", \"BC1/Cross3/Cross3/LineWLight3\")\n",
    "\n",
    "    RoadManager.connect_roads_str(\"BC3/Cross0/Cross0/Line0\", \"BC2/Cross1/Cross1/LineWLight0\")\n",
    "    RoadManager.connect_roads_str(\"BC3/Cross0/Cross2/Line0\", \"BC2/Cross1/Cross3/LineWLight0\")\n",
    "    RoadManager.connect_roads_str(\"BC3/Cross2/Cross0/Line0\", \"BC2/Cross3/Cross1/LineWLight0\")\n",
    "    RoadManager.connect_roads_str(\"BC3/Cross2/Cross2/Line0\", \"BC2/Cross3/Cross3/LineWLight0\")"
   ]
  },
  {
   "cell_type": "code",
   "execution_count": 6,
   "metadata": {},
   "outputs": [],
   "source": [
    "def delete_map():\n",
    "    RoadManager.dict_road = {}\n",
    "    for road in RoadManager.roads:\n",
    "        del road\n",
    "    RoadManager.roads = []\n",
    "    for car in CarManager.all_cars:\n",
    "        del car\n",
    "    CarManager.all_cars = [None]"
   ]
  },
  {
   "cell_type": "code",
   "execution_count": 7,
   "metadata": {},
   "outputs": [],
   "source": [
    "def load_cars(fname):\n",
    "    with open(fname) as fp:\n",
    "        cars = json.load(fp)\n",
    "    for road, c in cars.items():\n",
    "        crs = []\n",
    "        for char in c:\n",
    "            if RANDOM_WALK:\n",
    "                route = np.random.randint(0, 4, 100).tolist()\n",
    "            crs.append(Car(route=route, rotate_in_case=ROTATE_IN_JUNK))\n",
    "            crs[-1].set_position(np.array(char[:2]))\n",
    "            crs[-1].set_speed(char[2])\n",
    "        RoadManager.dict_road[road].add_car_at_position_w_speed(crs)"
   ]
  },
  {
   "cell_type": "code",
   "execution_count": 8,
   "metadata": {},
   "outputs": [],
   "source": [
    "delete_map()"
   ]
  },
  {
   "cell_type": "code",
   "execution_count": 9,
   "metadata": {},
   "outputs": [
    {
     "name": "stderr",
     "output_type": "stream",
     "text": [
      "100%|██████████| 500/500 [00:29<00:00,  6.78it/s]\n",
      "/home/admitri/.local/lib/python3.6/site-packages/ipykernel_launcher.py:21: RuntimeWarning: invalid value encountered in true_divide\n",
      "100%|██████████| 500/500 [00:25<00:00, 19.52it/s]\n",
      "100%|██████████| 500/500 [00:31<00:00, 16.25it/s]\n",
      "100%|██████████| 500/500 [00:37<00:00, 13.29it/s]\n",
      "100%|██████████| 500/500 [00:43<00:00, 11.61it/s]\n",
      "100%|██████████| 500/500 [01:39<00:00,  7.76it/s]\n",
      "100%|██████████| 500/500 [01:08<00:00,  7.29it/s]\n",
      "100%|██████████| 500/500 [00:56<00:00, 11.00it/s]\n",
      "100%|██████████| 500/500 [00:56<00:00,  9.52it/s]\n",
      "100%|██████████| 500/500 [01:06<00:00,  9.00it/s]\n",
      "100%|██████████| 500/500 [01:34<00:00,  4.28it/s]\n",
      "100%|██████████| 500/500 [01:07<00:00,  8.28it/s]\n",
      "100%|██████████| 500/500 [01:08<00:00,  7.86it/s]\n",
      "100%|██████████| 500/500 [01:30<00:00,  5.34it/s]\n",
      "100%|██████████| 500/500 [01:58<00:00,  3.04it/s]\n",
      "100%|██████████| 500/500 [02:37<00:00,  6.01it/s]\n",
      "100%|██████████| 500/500 [02:26<00:00,  2.80it/s]\n",
      "100%|██████████| 500/500 [03:00<00:00,  1.80it/s]\n",
      "100%|██████████| 500/500 [03:13<00:00,  2.83it/s]\n",
      "100%|██████████| 500/500 [04:18<00:00,  1.20it/s]\n"
     ]
    }
   ],
   "source": [
    "wholeresults = []\n",
    "for file in os.listdir(\"initials\")[:-1]:\n",
    "    initialize_map(RED, GREEN, ROTARY_2)\n",
    "    load_cars(os.path.join(\"initials\", file))\n",
    "    for frame in tqdm(range(EPOCHS), total=EPOCHS):\n",
    "        for road in RoadManager.roads:\n",
    "            road.move_cars(frame)\n",
    "\n",
    "        for road in RoadManager.roads:\n",
    "            road.step(frame)\n",
    "\n",
    "        for road in RoadManager.roads:\n",
    "            road.process_outputs()\n",
    "    \n",
    "    results = np.zeros((EPOCHS, 3), dtype=\"float32\")\n",
    "    for road in RoadManager.roads:\n",
    "        results += np.array(road.get_stats())\n",
    "    delete_map()\n",
    "        \n",
    "    density = results[:, 1]/results[:, 0]\n",
    "    speed = results[:, 2]/results[:, 1]\n",
    "    speed[np.isnan(speed)] = 0\n",
    "    flow = speed*density\n",
    "    wholeresults.append((np.mean(density), np.mean(speed), np.mean(flow)))"
   ]
  },
  {
   "cell_type": "code",
   "execution_count": 10,
   "metadata": {},
   "outputs": [],
   "source": [
    "wholeresults.append((1, 0, 0))"
   ]
  },
  {
   "cell_type": "code",
   "execution_count": 11,
   "metadata": {},
   "outputs": [],
   "source": [
    "density_speed_flow = np.array(wholeresults)"
   ]
  },
  {
   "cell_type": "code",
   "execution_count": 12,
   "metadata": {},
   "outputs": [
    {
     "data": {
      "text/plain": [
       "array([[0.        , 0.        , 0.        ],\n",
       "       [0.03804348, 0.70601344, 0.0268592 ],\n",
       "       [0.08865488, 0.67888319, 0.06018631],\n",
       "       [0.13943613, 0.63730091, 0.08886277],\n",
       "       [0.18902852, 0.57887965, 0.10942476],\n",
       "       [0.23930027, 0.23627894, 0.05654161],\n",
       "       [0.28787366, 0.13966373, 0.0402055 ],\n",
       "       [0.33848506, 0.08166333, 0.02764182],\n",
       "       [0.38807744, 0.07896805, 0.03064572],\n",
       "       [0.43783966, 0.05517844, 0.02415931],\n",
       "       [0.48777181, 0.03847284, 0.01876596],\n",
       "       [0.53753394, 0.0365744 , 0.01965998],\n",
       "       [0.58763593, 0.02787196, 0.01637857],\n",
       "       [0.65640688, 0.02216477, 0.01450713],\n",
       "       [0.6952306 , 0.01872481, 0.01296518],\n",
       "       [0.76717454, 0.01239365, 0.00947215],\n",
       "       [0.80809307, 0.00997789, 0.00803465],\n",
       "       [0.86378872, 0.00754048, 0.0065034 ],\n",
       "       [0.90698427, 0.00492739, 0.00446535],\n",
       "       [0.95250356, 0.00388458, 0.00369667],\n",
       "       [1.        , 0.        , 0.        ]])"
      ]
     },
     "execution_count": 12,
     "metadata": {},
     "output_type": "execute_result"
    }
   ],
   "source": [
    "density_speed_flow"
   ]
  },
  {
   "cell_type": "code",
   "execution_count": 13,
   "metadata": {},
   "outputs": [],
   "source": [
    "np.save(os.path.join(\"data\", \"%s_modeling.npy\" % TYPE), density_speed_flow)"
   ]
  },
  {
   "cell_type": "code",
   "execution_count": 14,
   "metadata": {},
   "outputs": [
    {
     "data": {
      "image/png": "[encoded data removed]",
      "text/plain": [
       "<Figure size 432x288 with 1 Axes>"
      ]
     },
     "metadata": {
      "needs_background": "light"
     },
     "output_type": "display_data"
    }
   ],
   "source": [
    "plt.plot(density_speed_flow[:, 0], density_speed_flow[:, 2], alpha=.5, )\n",
    "plt.xlabel(\"Density\")\n",
    "plt.ylabel(\"Traffic flow\")\n",
    "plt.savefig(os.path.join(\"data\", \"%s_density_flow.png\" % TYPE))"
   ]
  },
  {
   "cell_type": "code",
   "execution_count": 15,
   "metadata": {},
   "outputs": [
    {
     "data": {
      "image/png": "[encoded data removed]",
      "text/plain": [
       "<Figure size 432x288 with 1 Axes>"
      ]
     },
     "metadata": {
      "needs_background": "light"
     },
     "output_type": "display_data"
    }
   ],
   "source": [
    "plt.plot(density_speed_flow[:, 0], density_speed_flow[:, 1], alpha=.5, )\n",
    "plt.xlabel(\"Density\")\n",
    "plt.ylabel(\"Speed\")\n",
    "plt.savefig(os.path.join(\"data\", \"%s_density_speed.png\" % TYPE))"
   ]
  },
  {
   "cell_type": "code",
   "execution_count": 16,
   "metadata": {},
   "outputs": [
    {
     "data": {
      "image/png": "[encoded data removed]",
      "text/plain": [
       "<Figure size 432x288 with 1 Axes>"
      ]
     },
     "metadata": {
      "needs_background": "light"
     },
     "output_type": "display_data"
    }
   ],
   "source": [
    "plt.plot(density_speed_flow[:, 1], density_speed_flow[:, 2], alpha=.5, )\n",
    "plt.xlabel(\"Speed\")\n",
    "plt.ylabel(\"Traffic flow\")\n",
    "plt.savefig(os.path.join(\"data\", \"%s_speed_flow.png\" % TYPE))"
   ]
  },
  {
   "cell_type": "code",
   "execution_count": null,
   "metadata": {},
   "outputs": [],
   "source": []
  }
 ],
 "metadata": {
  "kernelspec": {
   "display_name": "Python 3",
   "language": "python",
   "name": "python3"
  },
  "language_info": {
   "codemirror_mode": {
    "name": "ipython",
    "version": 3
   },
   "file_extension": ".py",
   "mimetype": "text/x-python",
   "name": "python",
   "nbconvert_exporter": "python",
   "pygments_lexer": "ipython3",
   "version": "3.6.7"
  }
 },
 "nbformat": 4,
 "nbformat_minor": 2
}
