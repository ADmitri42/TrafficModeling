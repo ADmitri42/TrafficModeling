{
 "cells": [
  {
   "cell_type": "code",
   "execution_count": 1,
   "metadata": {},
   "outputs": [],
   "source": [
    "from road_network.cython_cars_and_roads import VoidGenerator, Line, LineWLight, RoadManager, Crossroad"
   ]
  },
  {
   "cell_type": "code",
   "execution_count": null,
   "metadata": {},
   "outputs": [],
   "source": []
  },
  {
   "cell_type": "code",
   "execution_count": 1,
   "metadata": {},
   "outputs": [],
   "source": [
    "from road_network.road_and_cars import VoidGenerator, Line, LineWLight, Crossroad, CarManager, RoadManager"
   ]
  },
  {
   "cell_type": "code",
   "execution_count": 2,
   "metadata": {},
   "outputs": [],
   "source": [
    "lineW0 = LineWLight(20, 18, 20, 10)\n",
    "lineW1 = LineWLight(20, 18, 20, 10)\n",
    "lineW2 = LineWLight(20, 18, 20, 10, 15)\n",
    "lineW3 = LineWLight(20, 18, 20, 10, 15)\n",
    "\n",
    "line0 = Line(20)\n",
    "line1 = Line(20)\n",
    "line2 = Line(20)\n",
    "line3 = Line(20)\n",
    "\n",
    "crossroad = Crossroad(1, 1, 1, 1)\n",
    "\n",
    "void = VoidGenerator(.6)"
   ]
  },
  {
   "cell_type": "code",
   "execution_count": 3,
   "metadata": {},
   "outputs": [],
   "source": [
    "lineW0.add_output(crossroad, 0, 0)\n",
    "lineW1.add_output(crossroad, 0, 1)\n",
    "lineW2.add_output(crossroad, 0, 2)\n",
    "lineW3.add_output(crossroad, 0, 3)\n",
    "\n",
    "crossroad.add_output(line0, 0)\n",
    "crossroad.add_output(line1, 1)\n",
    "crossroad.add_output(line2, 2)\n",
    "crossroad.add_output(line3, 3)\n",
    "\n",
    "void.add_output(lineW0, 0)\n",
    "void.add_output(lineW1, 1)\n",
    "void.add_output(lineW2, 2)\n",
    "void.add_output(lineW3, 3)\n",
    "\n",
    "line0.add_output(void, 0, 0)\n",
    "line1.add_output(void, 0, 1)\n",
    "line2.add_output(void, 0, 2)\n",
    "line3.add_output(void, 0, 3)"
   ]
  },
  {
   "cell_type": "code",
   "execution_count": 4,
   "metadata": {},
   "outputs": [
    {
     "name": "stdout",
     "output_type": "stream",
     "text": [
      "2.22 s ± 321 ms per loop (mean ± std. dev. of 7 runs, 1 loop each)\n"
     ]
    }
   ],
   "source": [
    "%%timeit\n",
    "for frame in range(400):\n",
    "    for road in RoadManager.roads:\n",
    "        road.move_cars(frame)\n",
    "    \n",
    "    for road in RoadManager.roads:\n",
    "        road.step(frame)\n",
    "    \n",
    "    for road in RoadManager.roads:\n",
    "        road.process_outputs()"
   ]
  },
  {
   "cell_type": "code",
   "execution_count": null,
   "metadata": {},
   "outputs": [],
   "source": []
  },
  {
   "cell_type": "code",
   "execution_count": null,
   "metadata": {},
   "outputs": [],
   "source": []
  },
  {
   "cell_type": "code",
   "execution_count": null,
   "metadata": {},
   "outputs": [],
   "source": []
  },
  {
   "cell_type": "code",
   "execution_count": null,
   "metadata": {},
   "outputs": [],
   "source": []
  },
  {
   "cell_type": "code",
   "execution_count": null,
   "metadata": {},
   "outputs": [],
   "source": []
  },
  {
   "cell_type": "code",
   "execution_count": null,
   "metadata": {},
   "outputs": [],
   "source": []
  },
  {
   "cell_type": "code",
   "execution_count": 8,
   "metadata": {},
   "outputs": [
    {
     "name": "stdout",
     "output_type": "stream",
     "text": [
      "3.14 ms ± 236 µs per loop (mean ± std. dev. of 7 runs, 100 loops each)\n"
     ]
    }
   ],
   "source": [
    "%%timeit\n",
    "for road in RoadManager.roads:\n",
    "        road.move_cars(frame)"
   ]
  },
  {
   "cell_type": "code",
   "execution_count": 9,
   "metadata": {},
   "outputs": [
    {
     "name": "stdout",
     "output_type": "stream",
     "text": [
      "538 µs ± 129 µs per loop (mean ± std. dev. of 7 runs, 1000 loops each)\n"
     ]
    }
   ],
   "source": [
    "%%timeit\n",
    "for road in RoadManager.roads:\n",
    "        road.step(frame)"
   ]
  },
  {
   "cell_type": "code",
   "execution_count": 10,
   "metadata": {},
   "outputs": [
    {
     "name": "stdout",
     "output_type": "stream",
     "text": [
      "926 µs ± 158 µs per loop (mean ± std. dev. of 7 runs, 1000 loops each)\n"
     ]
    }
   ],
   "source": [
    "%%timeit\n",
    "for road in RoadManager.roads:\n",
    "        road.process_outputs()"
   ]
  },
  {
   "cell_type": "code",
   "execution_count": null,
   "metadata": {},
   "outputs": [],
   "source": [
    "dfghjhgf"
   ]
  },
  {
   "cell_type": "code",
   "execution_count": 11,
   "metadata": {},
   "outputs": [
    {
     "name": "stdout",
     "output_type": "stream",
     "text": [
      "2.93 ms ± 513 µs per loop (mean ± std. dev. of 7 runs, 100 loops each)\n"
     ]
    }
   ],
   "source": [
    "%%timeit\n",
    "for road in RoadManager.roads:\n",
    "        road.move_cars(frame)"
   ]
  },
  {
   "cell_type": "code",
   "execution_count": 12,
   "metadata": {},
   "outputs": [
    {
     "name": "stdout",
     "output_type": "stream",
     "text": [
      "1.25 ms ± 204 µs per loop (mean ± std. dev. of 7 runs, 100 loops each)\n"
     ]
    }
   ],
   "source": [
    "%%timeit\n",
    "for road in RoadManager.roads:\n",
    "        road.step(frame)"
   ]
  },
  {
   "cell_type": "code",
   "execution_count": 13,
   "metadata": {},
   "outputs": [
    {
     "name": "stdout",
     "output_type": "stream",
     "text": [
      "852 µs ± 252 µs per loop (mean ± std. dev. of 7 runs, 1000 loops each)\n"
     ]
    }
   ],
   "source": [
    "%%timeit\n",
    "for road in RoadManager.roads:\n",
    "        road.process_outputs()"
   ]
  },
  {
   "cell_type": "code",
   "execution_count": null,
   "metadata": {},
   "outputs": [],
   "source": []
  }
 ],
 "metadata": {
  "kernelspec": {
   "display_name": "Python 3",
   "language": "python",
   "name": "python3"
  },
  "language_info": {
   "codemirror_mode": {
    "name": "ipython",
    "version": 3
   },
   "file_extension": ".py",
   "mimetype": "text/x-python",
   "name": "python",
   "nbconvert_exporter": "python",
   "pygments_lexer": "ipython3",
   "version": "3.6.7"
  }
 },
 "nbformat": 4,
 "nbformat_minor": 2
}
